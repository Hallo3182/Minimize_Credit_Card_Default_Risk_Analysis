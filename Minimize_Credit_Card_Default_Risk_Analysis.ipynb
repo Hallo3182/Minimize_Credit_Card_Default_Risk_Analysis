{
 "cells": [
  {
   "cell_type": "code",
   "execution_count": 1,
   "id": "f0c307cb",
   "metadata": {},
   "outputs": [],
   "source": [
    "import numpy as np\n",
    "import pandas as pd\n",
    "import matplotlib.pyplot as plt\n",
    "import seaborn as sns"
   ]
  },
  {
   "cell_type": "code",
   "execution_count": null,
   "id": "a718e542",
   "metadata": {},
   "outputs": [],
   "source": [
    "card_details=pd.read_csv(r'C:\\Users\\Admin\\OneDrive\\Desktop\\card details.csv')\n",
    "customer_details = pd.read_csv(r'C:\\Users\\Admin\\OneDrive\\Desktop\\customer details.csv',encoding= 'unicode_escape')\n",
    "#To avoid encoding error, use unicode_escape"
   ]
  },
  {
   "cell_type": "code",
   "execution_count": 12,
   "id": "496c7f74",
   "metadata": {},
   "outputs": [],
   "source": [
    "# Join the Dataset through Customer ID column\n",
    "df1 = card_details.merge(customer_details,on='CustomerID')"
   ]
  },
  {
   "cell_type": "markdown",
   "id": "cf8a2deb",
   "metadata": {},
   "source": [
    "# Data Cleaning\n"
   ]
  },
  {
   "cell_type": "code",
   "execution_count": 13,
   "id": "a57e7e06",
   "metadata": {},
   "outputs": [
    {
     "name": "stdout",
     "output_type": "stream",
     "text": [
      "(32547, 12)\n"
     ]
    }
   ],
   "source": [
    "print(df1.shape)"
   ]
  },
  {
   "cell_type": "code",
   "execution_count": 14,
   "id": "002bdbe3",
   "metadata": {},
   "outputs": [
    {
     "name": "stdout",
     "output_type": "stream",
     "text": [
      "<class 'pandas.core.frame.DataFrame'>\n",
      "Int64Index: 32547 entries, 0 to 32546\n",
      "Data columns (total 12 columns):\n",
      " #   Column          Non-Null Count  Dtype  \n",
      "---  ------          --------------  -----  \n",
      " 0   CustomerID      32547 non-null  object \n",
      " 1   Income          32547 non-null  float64\n",
      " 2   Limit           32547 non-null  int64  \n",
      " 3   Rating          32547 non-null  int64  \n",
      " 4   Cards           32547 non-null  int64  \n",
      " 5   Balance         32547 non-null  int64  \n",
      " 6   Name            32547 non-null  object \n",
      " 7   Age             32547 non-null  int64  \n",
      " 8   Marital Status  32547 non-null  object \n",
      " 9   Gender          32547 non-null  object \n",
      " 10  Ethnicity       32547 non-null  object \n",
      " 11  Education       32547 non-null  object \n",
      "dtypes: float64(1), int64(5), object(6)\n",
      "memory usage: 3.2+ MB\n",
      "None\n"
     ]
    }
   ],
   "source": [
    "print(df1.info())"
   ]
  },
  {
   "cell_type": "code",
   "execution_count": 29,
   "id": "74944307",
   "metadata": {},
   "outputs": [
    {
     "name": "stdout",
     "output_type": "stream",
     "text": [
      "0        False\n",
      "1        False\n",
      "2        False\n",
      "3        False\n",
      "4        False\n",
      "         ...  \n",
      "32542    False\n",
      "32543    False\n",
      "32544    False\n",
      "32545    False\n",
      "32546    False\n",
      "Length: 32547, dtype: bool\n"
     ]
    }
   ],
   "source": [
    "print(df1.duplicated())"
   ]
  },
  {
   "cell_type": "code",
   "execution_count": 33,
   "id": "7b72b0f4",
   "metadata": {},
   "outputs": [],
   "source": [
    "df = df1.drop_duplicates()"
   ]
  },
  {
   "cell_type": "code",
   "execution_count": 34,
   "id": "575c538c",
   "metadata": {},
   "outputs": [
    {
     "name": "stdout",
     "output_type": "stream",
     "text": [
      "CustomerID        0\n",
      "Income            0\n",
      "Limit             0\n",
      "Rating            0\n",
      "Cards             0\n",
      "Balance           0\n",
      "Name              0\n",
      "Age               0\n",
      "Marital Status    0\n",
      "Gender            0\n",
      "Ethnicity         0\n",
      "Education         0\n",
      "dtype: int64\n"
     ]
    }
   ],
   "source": [
    "print(pd.isnull(df).sum())"
   ]
  },
  {
   "cell_type": "markdown",
   "id": "8185c722",
   "metadata": {},
   "source": [
    "# Data Visualization"
   ]
  },
  {
   "cell_type": "code",
   "execution_count": 41,
   "id": "706d39e8",
   "metadata": {},
   "outputs": [
    {
     "data": {
      "text/plain": [
       "<Axes: xlabel='Gender', ylabel='Income'>"
      ]
     },
     "execution_count": 41,
     "metadata": {},
     "output_type": "execute_result"
    },
    {
     "data": {
      "image/png": "[encoded data removed]",
      "text/plain": [
       "<Figure size 1500x500 with 1 Axes>"
      ]
     },
     "metadata": {},
     "output_type": "display_data"
    }
   ],
   "source": [
    "#Total Income vs Age\n",
    "vs = df.groupby(['Gender'], as_index=False)['Income'].sum().sort_values(by='Income',ascending=False)\n",
    "sns.barplot(x = 'Gender', y= 'Income',data = vs)"
   ]
  },
  {
   "cell_type": "markdown",
   "id": "c3e42ebc",
   "metadata": {},
   "source": [
    "#From the above graphs, we can see the high income of females"
   ]
  },
  {
   "cell_type": "code",
   "execution_count": null,
   "id": "edf90d86",
   "metadata": {},
   "outputs": [],
   "source": []
  }
 ],
 "metadata": {
  "kernelspec": {
   "display_name": "Python 3 (ipykernel)",
   "language": "python",
   "name": "python3"
  },
  "language_info": {
   "codemirror_mode": {
    "name": "ipython",
    "version": 3
   },
   "file_extension": ".py",
   "mimetype": "text/x-python",
   "name": "python",
   "nbconvert_exporter": "python",
   "pygments_lexer": "ipython3",
   "version": "3.10.9"
  }
 },
 "nbformat": 4,
 "nbformat_minor": 5
}
